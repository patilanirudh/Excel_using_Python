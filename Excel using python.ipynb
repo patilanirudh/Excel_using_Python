{
 "cells": [
  {
   "cell_type": "markdown",
   "id": "0e27d256",
   "metadata": {},
   "source": [
    "# Excel using Python"
   ]
  },
  {
   "cell_type": "markdown",
   "id": "65339456",
   "metadata": {},
   "source": [
    "__An excel file is used to store, analyse and manipulate data. It is a collection of spreadsheets, which stores the actual data in rows and columns.__\n",
    "\n",
    "__openpyxl is a Python library which allows the interaction between a Python script and an excel file.__"
   ]
  },
  {
   "cell_type": "markdown",
   "id": "084e18f2",
   "metadata": {},
   "source": [
    "In openpyxl library, \n",
    "\n",
    "An excel file is a Workbook\n",
    "Each spreadsheet is a Worksheet\n",
    "Each worksheet is a collection of rows and columns\n",
    "The intersection of a row and a column in a worksheet is a Cell\n",
    "Each cell holds data stored in the worksheet"
   ]
  },
  {
   "cell_type": "code",
   "execution_count": 1,
   "id": "3ce2a12a",
   "metadata": {},
   "outputs": [],
   "source": [
    "# pip install openpyxl\n",
    "import openpyxl as xl"
   ]
  },
  {
   "cell_type": "markdown",
   "id": "88f1b471",
   "metadata": {},
   "source": [
    "## __Loading workbook__"
   ]
  },
  {
   "cell_type": "code",
   "execution_count": 2,
   "id": "d02d9d86",
   "metadata": {},
   "outputs": [],
   "source": [
    "wb = xl.load_workbook('txt.xlsx')"
   ]
  },
  {
   "cell_type": "code",
   "execution_count": 3,
   "id": "12a5abcf",
   "metadata": {},
   "outputs": [
    {
     "name": "stdout",
     "output_type": "stream",
     "text": [
      "<class 'openpyxl.workbook.workbook.Workbook'>\n"
     ]
    }
   ],
   "source": [
    "print(type(wb))"
   ]
  },
  {
   "cell_type": "code",
   "execution_count": 4,
   "id": "13d8d3a1",
   "metadata": {},
   "outputs": [
    {
     "name": "stdout",
     "output_type": "stream",
     "text": [
      "<Worksheet \"Sheet1\">\n"
     ]
    }
   ],
   "source": [
    "print(wb.active)"
   ]
  },
  {
   "cell_type": "code",
   "execution_count": 5,
   "id": "9cf8e821",
   "metadata": {},
   "outputs": [
    {
     "name": "stdout",
     "output_type": "stream",
     "text": [
      "['Sheet1', 'sample', 'test1']\n"
     ]
    }
   ],
   "source": [
    "print(wb.sheetnames)"
   ]
  },
  {
   "cell_type": "code",
   "execution_count": 6,
   "id": "08e72acf",
   "metadata": {},
   "outputs": [
    {
     "data": {
      "text/plain": [
       "[<Worksheet \"Sheet1\">, <Worksheet \"sample\">, <Worksheet \"test1\">]"
      ]
     },
     "execution_count": 6,
     "metadata": {},
     "output_type": "execute_result"
    }
   ],
   "source": [
    "wb.worksheets"
   ]
  },
  {
   "cell_type": "code",
   "execution_count": 7,
   "id": "f247b495",
   "metadata": {},
   "outputs": [
    {
     "data": {
      "text/plain": [
       "openpyxl.worksheet.worksheet.Worksheet"
      ]
     },
     "execution_count": 7,
     "metadata": {},
     "output_type": "execute_result"
    }
   ],
   "source": [
    "a=wb['Sheet1']\n",
    "type(a)"
   ]
  },
  {
   "cell_type": "markdown",
   "id": "21682997",
   "metadata": {},
   "source": [
    "## __Accessing Cells__"
   ]
  },
  {
   "cell_type": "markdown",
   "id": "07134f58",
   "metadata": {},
   "source": [
    "cell(row, column) : The cell method of worksheet object accepts two parameters (row and column) and returns the corresponding cell object. The rows and columns must be referenced as integers starting from 1"
   ]
  },
  {
   "cell_type": "code",
   "execution_count": 8,
   "id": "535dd13f",
   "metadata": {},
   "outputs": [],
   "source": [
    "wb = xl.load_workbook('txt.xlsx')"
   ]
  },
  {
   "cell_type": "code",
   "execution_count": 9,
   "id": "16f93729",
   "metadata": {},
   "outputs": [
    {
     "name": "stdout",
     "output_type": "stream",
     "text": [
      "<Cell 'Sheet1'.C2>\n",
      "6\n"
     ]
    }
   ],
   "source": [
    "ws=wb['Sheet1']\n",
    "a=ws.cell(2,3)\n",
    "print(a)\n",
    "print(a.value)"
   ]
  },
  {
   "cell_type": "markdown",
   "id": "230b4c75",
   "metadata": {},
   "source": [
    "Using the worksheet object : The cell can be accessed by mentioning it as key in worksheet object, which returns the corresponding cell object. "
   ]
  },
  {
   "cell_type": "code",
   "execution_count": 10,
   "id": "d0086ac7",
   "metadata": {},
   "outputs": [
    {
     "data": {
      "text/plain": [
       "6"
      ]
     },
     "execution_count": 10,
     "metadata": {},
     "output_type": "execute_result"
    }
   ],
   "source": [
    "a=ws['C2']\n",
    "a.value"
   ]
  },
  {
   "cell_type": "markdown",
   "id": "e7a85d0f",
   "metadata": {},
   "source": [
    "## Worksheet Slicing"
   ]
  },
  {
   "cell_type": "code",
   "execution_count": 11,
   "id": "b62bd01f",
   "metadata": {},
   "outputs": [],
   "source": [
    "wb = xl.load_workbook('txt.xlsx')"
   ]
  },
  {
   "cell_type": "code",
   "execution_count": 12,
   "id": "a0f9f440",
   "metadata": {},
   "outputs": [
    {
     "data": {
      "text/plain": [
       "((<Cell 'Sheet1'.A1>, <Cell 'Sheet1'.B1>, <Cell 'Sheet1'.C1>),\n",
       " (<Cell 'Sheet1'.A2>, <Cell 'Sheet1'.B2>, <Cell 'Sheet1'.C2>),\n",
       " (<Cell 'Sheet1'.A3>, <Cell 'Sheet1'.B3>, <Cell 'Sheet1'.C3>))"
      ]
     },
     "execution_count": 12,
     "metadata": {},
     "output_type": "execute_result"
    }
   ],
   "source": [
    "ws=wb['Sheet1']\n",
    "cells=ws['A1':'C3']\n",
    "cells"
   ]
  },
  {
   "cell_type": "code",
   "execution_count": 13,
   "id": "b5514936",
   "metadata": {},
   "outputs": [
    {
     "name": "stdout",
     "output_type": "stream",
     "text": [
      "JOHN WICK 2 3 \n",
      "JOHN WICK 5 6 \n",
      "7 8 9 \n"
     ]
    }
   ],
   "source": [
    "for i in cells:\n",
    "    for j in i:\n",
    "        print(j.value,end=' ')\n",
    "    print()"
   ]
  },
  {
   "cell_type": "markdown",
   "id": "f730907e",
   "metadata": {},
   "source": [
    "## Fetching all rows and column values"
   ]
  },
  {
   "cell_type": "code",
   "execution_count": 14,
   "id": "59390d56",
   "metadata": {},
   "outputs": [],
   "source": [
    "wb = xl.load_workbook('txt.xlsx')"
   ]
  },
  {
   "cell_type": "code",
   "execution_count": 15,
   "id": "295f6d02",
   "metadata": {},
   "outputs": [],
   "source": [
    "#returns the last row populated with data\n",
    "# work_sheet.max_row\n",
    "#returns the last column populated with data\n",
    "# work_sheet.max_column\n"
   ]
  },
  {
   "cell_type": "code",
   "execution_count": 16,
   "id": "ea183634",
   "metadata": {},
   "outputs": [],
   "source": [
    "ws=wb['Sheet1']"
   ]
  },
  {
   "cell_type": "code",
   "execution_count": 17,
   "id": "8c716a3f",
   "metadata": {},
   "outputs": [
    {
     "data": {
      "text/plain": [
       "9"
      ]
     },
     "execution_count": 17,
     "metadata": {},
     "output_type": "execute_result"
    }
   ],
   "source": [
    "ws.max_row"
   ]
  },
  {
   "cell_type": "code",
   "execution_count": 18,
   "id": "c72a2003",
   "metadata": {},
   "outputs": [
    {
     "data": {
      "text/plain": [
       "4"
      ]
     },
     "execution_count": 18,
     "metadata": {},
     "output_type": "execute_result"
    }
   ],
   "source": [
    "ws.max_column"
   ]
  },
  {
   "cell_type": "code",
   "execution_count": 19,
   "id": "99f46ab9",
   "metadata": {},
   "outputs": [
    {
     "name": "stdout",
     "output_type": "stream",
     "text": [
      "JOHN WICK 2 3 a \n",
      "JOHN WICK 5 6 a \n",
      "7 8 9 a \n",
      "1 2 3 a \n",
      "5 10 10000 b \n",
      "1 2 3 a \n",
      "5 10 10000 b \n",
      "1 2 3 a \n",
      "5 10 10000 b \n"
     ]
    }
   ],
   "source": [
    "for i in range(1,ws.max_row+1):\n",
    "    for j in range(1,ws.max_column+1):\n",
    "        print(ws.cell(i,j).value,end=' ')\n",
    "    print()"
   ]
  },
  {
   "cell_type": "code",
   "execution_count": 20,
   "id": "c9ac15b4",
   "metadata": {},
   "outputs": [
    {
     "name": "stdout",
     "output_type": "stream",
     "text": [
      "JOHN WICK 2 3 a None None None None None \n",
      "JOHN WICK 5 6 a None None None None None \n",
      "7 8 9 a None None None None None \n",
      "1 2 3 a None None None None None \n"
     ]
    }
   ],
   "source": [
    "#wont give you last column values\n",
    "for i in range(1,ws.max_column+1):\n",
    "    for j in range(1,ws.max_row+1):\n",
    "        print(ws.cell(i,j).value,end=' ')\n",
    "    print()"
   ]
  },
  {
   "cell_type": "markdown",
   "id": "d9fa28b3",
   "metadata": {},
   "source": [
    "## Accessing sheet data row-wise and column-wise"
   ]
  },
  {
   "cell_type": "code",
   "execution_count": 21,
   "id": "79281b59",
   "metadata": {},
   "outputs": [],
   "source": [
    "wb = xl.load_workbook('txt.xlsx')\n",
    "ws=wb['Sheet1']"
   ]
  },
  {
   "cell_type": "code",
   "execution_count": 22,
   "id": "1e940f9f",
   "metadata": {},
   "outputs": [
    {
     "name": "stdout",
     "output_type": "stream",
     "text": [
      "((<Cell 'Sheet1'.A1>, <Cell 'Sheet1'.B1>, <Cell 'Sheet1'.C1>, <Cell 'Sheet1'.D1>), (<Cell 'Sheet1'.A2>, <Cell 'Sheet1'.B2>, <Cell 'Sheet1'.C2>, <Cell 'Sheet1'.D2>), (<Cell 'Sheet1'.A3>, <Cell 'Sheet1'.B3>, <Cell 'Sheet1'.C3>, <Cell 'Sheet1'.D3>), (<Cell 'Sheet1'.A4>, <Cell 'Sheet1'.B4>, <Cell 'Sheet1'.C4>, <Cell 'Sheet1'.D4>), (<Cell 'Sheet1'.A5>, <Cell 'Sheet1'.B5>, <Cell 'Sheet1'.C5>, <Cell 'Sheet1'.D5>), (<Cell 'Sheet1'.A6>, <Cell 'Sheet1'.B6>, <Cell 'Sheet1'.C6>, <Cell 'Sheet1'.D6>), (<Cell 'Sheet1'.A7>, <Cell 'Sheet1'.B7>, <Cell 'Sheet1'.C7>, <Cell 'Sheet1'.D7>), (<Cell 'Sheet1'.A8>, <Cell 'Sheet1'.B8>, <Cell 'Sheet1'.C8>, <Cell 'Sheet1'.D8>), (<Cell 'Sheet1'.A9>, <Cell 'Sheet1'.B9>, <Cell 'Sheet1'.C9>, <Cell 'Sheet1'.D9>))\n",
      "**************************************************\n",
      "((<Cell 'Sheet1'.A1>, <Cell 'Sheet1'.A2>, <Cell 'Sheet1'.A3>, <Cell 'Sheet1'.A4>, <Cell 'Sheet1'.A5>, <Cell 'Sheet1'.A6>, <Cell 'Sheet1'.A7>, <Cell 'Sheet1'.A8>, <Cell 'Sheet1'.A9>), (<Cell 'Sheet1'.B1>, <Cell 'Sheet1'.B2>, <Cell 'Sheet1'.B3>, <Cell 'Sheet1'.B4>, <Cell 'Sheet1'.B5>, <Cell 'Sheet1'.B6>, <Cell 'Sheet1'.B7>, <Cell 'Sheet1'.B8>, <Cell 'Sheet1'.B9>), (<Cell 'Sheet1'.C1>, <Cell 'Sheet1'.C2>, <Cell 'Sheet1'.C3>, <Cell 'Sheet1'.C4>, <Cell 'Sheet1'.C5>, <Cell 'Sheet1'.C6>, <Cell 'Sheet1'.C7>, <Cell 'Sheet1'.C8>, <Cell 'Sheet1'.C9>), (<Cell 'Sheet1'.D1>, <Cell 'Sheet1'.D2>, <Cell 'Sheet1'.D3>, <Cell 'Sheet1'.D4>, <Cell 'Sheet1'.D5>, <Cell 'Sheet1'.D6>, <Cell 'Sheet1'.D7>, <Cell 'Sheet1'.D8>, <Cell 'Sheet1'.D9>))\n"
     ]
    }
   ],
   "source": [
    "print(tuple(ws.rows))\n",
    "print('*'*50)\n",
    "print(tuple(ws.columns))"
   ]
  },
  {
   "cell_type": "code",
   "execution_count": 23,
   "id": "0483c948",
   "metadata": {},
   "outputs": [
    {
     "name": "stdout",
     "output_type": "stream",
     "text": [
      "JOHN WICK 2 3 a \n",
      "JOHN WICK 5 6 a \n",
      "7 8 9 a \n",
      "1 2 3 a \n",
      "5 10 10000 b \n",
      "1 2 3 a \n",
      "5 10 10000 b \n",
      "1 2 3 a \n",
      "5 10 10000 b \n"
     ]
    }
   ],
   "source": [
    "# row wise accessing\n",
    "all_rows=(tuple(ws.rows))\n",
    "for i in all_rows:\n",
    "    for j in i:\n",
    "        print(j.value,end=' ')\n",
    "    print()"
   ]
  },
  {
   "cell_type": "code",
   "execution_count": 24,
   "id": "7ce7cbcd",
   "metadata": {},
   "outputs": [
    {
     "name": "stdout",
     "output_type": "stream",
     "text": [
      "JOHN WICK JOHN WICK 7 1 5 1 5 1 5 \n",
      "2 5 8 2 10 2 10 2 10 \n",
      "3 6 9 3 10000 3 10000 3 10000 \n",
      "a a a a b a b a b \n"
     ]
    }
   ],
   "source": [
    "# column wise accessing\n",
    "all_rows=(tuple(ws.columns))\n",
    "for i in all_rows:\n",
    "    for j in i:\n",
    "        print(j.value,end=' ')\n",
    "    print()"
   ]
  },
  {
   "cell_type": "code",
   "execution_count": 25,
   "id": "8075c754",
   "metadata": {},
   "outputs": [
    {
     "name": "stdout",
     "output_type": "stream",
     "text": [
      "JOHN WICK 2 3 a \n",
      "JOHN WICK 5 6 a \n",
      "7 8 9 a \n",
      "1 2 3 a \n",
      "5 10 10000 b \n",
      "1 2 3 a \n",
      "5 10 10000 b \n",
      "1 2 3 a \n",
      "5 10 10000 b \n"
     ]
    }
   ],
   "source": [
    "## accesing entire sheet\n",
    "# all_rows=(tuple(ws.rows))\n",
    "for i in ws.values:\n",
    "    for j in i:\n",
    "        print(j,end=' ')\n",
    "    print()"
   ]
  },
  {
   "cell_type": "markdown",
   "id": "0d79578c",
   "metadata": {},
   "source": [
    "## Accessing individual rows and columns"
   ]
  },
  {
   "cell_type": "code",
   "execution_count": 26,
   "id": "2f8ebf07",
   "metadata": {},
   "outputs": [],
   "source": [
    "wb = xl.load_workbook('txt.xlsx')\n",
    "ws=wb['Sheet1']"
   ]
  },
  {
   "cell_type": "code",
   "execution_count": 27,
   "id": "ee5048c6",
   "metadata": {},
   "outputs": [
    {
     "name": "stdout",
     "output_type": "stream",
     "text": [
      "Cell objects of 'row 2':\n",
      "(<Cell 'Sheet1'.A2>, <Cell 'Sheet1'.B2>, <Cell 'Sheet1'.C2>, <Cell 'Sheet1'.D2>)\n",
      "****************************************************************************************************\n",
      "Cell objects of 'column B':\n",
      "(<Cell 'Sheet1'.B1>, <Cell 'Sheet1'.B2>, <Cell 'Sheet1'.B3>, <Cell 'Sheet1'.B4>, <Cell 'Sheet1'.B5>, <Cell 'Sheet1'.B6>, <Cell 'Sheet1'.B7>, <Cell 'Sheet1'.B8>, <Cell 'Sheet1'.B9>)\n"
     ]
    }
   ],
   "source": [
    "print(\"Cell objects of 'row 2':\")\n",
    "print(ws[2])\n",
    "print('*'*100)\n",
    "print(\"Cell objects of 'column B':\")\n",
    "print(ws['B'])"
   ]
  },
  {
   "cell_type": "code",
   "execution_count": 28,
   "id": "4edb0f1d",
   "metadata": {},
   "outputs": [
    {
     "name": "stdout",
     "output_type": "stream",
     "text": [
      "JOHN WICK 2 3 a "
     ]
    }
   ],
   "source": [
    "# row wise\n",
    "for i in ws[1]:\n",
    "    print(i.value,end=' ')\n",
    "    "
   ]
  },
  {
   "cell_type": "code",
   "execution_count": 29,
   "id": "29086e0b",
   "metadata": {},
   "outputs": [
    {
     "name": "stdout",
     "output_type": "stream",
     "text": [
      "3 6 9 3 10000 3 10000 3 10000 "
     ]
    }
   ],
   "source": [
    "# column wise\n",
    "for i in ws['C']:\n",
    "    print(i.value,end=' ')"
   ]
  },
  {
   "cell_type": "code",
   "execution_count": 30,
   "id": "d290a7ca",
   "metadata": {},
   "outputs": [
    {
     "name": "stdout",
     "output_type": "stream",
     "text": [
      "JOHN WICK 2 3 a \n",
      "JOHN WICK 5 6 a \n",
      "7 8 9 a \n",
      "1 2 3 a \n",
      "5 10 10000 b \n",
      "1 2 3 a \n",
      "5 10 10000 b \n",
      "1 2 3 a \n",
      "5 10 10000 b \n"
     ]
    }
   ],
   "source": [
    "for i in ws.values:\n",
    "    for j in i:\n",
    "        print(j,end=' ')\n",
    "    print()"
   ]
  },
  {
   "cell_type": "markdown",
   "id": "47e80ac7",
   "metadata": {},
   "source": [
    "## Adding a new record"
   ]
  },
  {
   "cell_type": "markdown",
   "id": "af307677",
   "metadata": {},
   "source": [
    "The append() method of the worksheet object is used to add a new record or row. It accepts a list/tuple of elements which needs to be inserted as a row. It can add only one row at a time."
   ]
  },
  {
   "cell_type": "code",
   "execution_count": 31,
   "id": "96cded0f",
   "metadata": {},
   "outputs": [],
   "source": [
    "wb = xl.load_workbook('txt.xlsx')\n",
    "ws=wb['Sheet1']"
   ]
  },
  {
   "cell_type": "code",
   "execution_count": 32,
   "id": "c8bc28d6",
   "metadata": {},
   "outputs": [],
   "source": [
    "ws.append([1,2,3,'a'])           #appending as list\n",
    "ws.append( (5, 10, 10000,'b') )  # appending as tuple"
   ]
  },
  {
   "cell_type": "code",
   "execution_count": 33,
   "id": "e773f6ca",
   "metadata": {},
   "outputs": [],
   "source": [
    "wb.save(r'txt.xlsx')"
   ]
  },
  {
   "cell_type": "code",
   "execution_count": 34,
   "id": "75ca8289",
   "metadata": {},
   "outputs": [
    {
     "name": "stdout",
     "output_type": "stream",
     "text": [
      "JOHN WICK 2 3 a \n",
      "JOHN WICK 5 6 a \n",
      "7 8 9 a \n",
      "1 2 3 a \n",
      "5 10 10000 b \n",
      "1 2 3 a \n",
      "5 10 10000 b \n",
      "1 2 3 a \n",
      "5 10 10000 b \n",
      "1 2 3 a \n",
      "5 10 10000 b \n"
     ]
    }
   ],
   "source": [
    "for i in ws.values:\n",
    "    for j in i:\n",
    "        print(j,end=' ')\n",
    "    print()"
   ]
  },
  {
   "cell_type": "markdown",
   "id": "16a9ec99",
   "metadata": {},
   "source": [
    "## Updating value for a specific cell"
   ]
  },
  {
   "cell_type": "code",
   "execution_count": 35,
   "id": "06083d99",
   "metadata": {},
   "outputs": [],
   "source": [
    "wb = xl.load_workbook('txt.xlsx')\n",
    "ws=wb['Sheet1']"
   ]
  },
  {
   "cell_type": "code",
   "execution_count": 36,
   "id": "f004cdc6",
   "metadata": {},
   "outputs": [],
   "source": [
    "ws['A2']='JOHN WICK'\n",
    "wb.save(r'txt.xlsx')"
   ]
  },
  {
   "cell_type": "code",
   "execution_count": 37,
   "id": "bc01ae72",
   "metadata": {},
   "outputs": [
    {
     "name": "stdout",
     "output_type": "stream",
     "text": [
      "JOHN WICK 2 3 a \n",
      "JOHN WICK 5 6 a \n",
      "7 8 9 a \n",
      "1 2 3 a \n",
      "5 10 10000 b \n",
      "1 2 3 a \n",
      "5 10 10000 b \n",
      "1 2 3 a \n",
      "5 10 10000 b \n",
      "1 2 3 a \n",
      "5 10 10000 b \n"
     ]
    }
   ],
   "source": [
    "for i in ws.values:\n",
    "    for j in i:\n",
    "        print(j,end=' ')\n",
    "    print()"
   ]
  },
  {
   "cell_type": "markdown",
   "id": "c69442d0",
   "metadata": {},
   "source": [
    "## Insert rows and columns"
   ]
  },
  {
   "cell_type": "markdown",
   "id": "f8372286",
   "metadata": {},
   "source": [
    " insert_rows():\n",
    "The insert_rows() method of the worksheet object is used to insert an empty row/rows in it. It accepts two parameters -\n",
    "the row number, before which the new row(s) to be inserted and\n",
    "the number of row(s) to be inserted"
   ]
  },
  {
   "cell_type": "markdown",
   "id": "841a062b",
   "metadata": {},
   "source": [
    "insert_cols():\n",
    "The insert_cols() method of the worksheet object is used to insert an empty column/columns into the worksheet. It accepts two parameters -\n",
    "the column number, before which the new column(s) to be inserted and\n",
    "the number of column(s) to be inserted"
   ]
  },
  {
   "cell_type": "code",
   "execution_count": 38,
   "id": "8813990b",
   "metadata": {},
   "outputs": [],
   "source": [
    "wb = xl.load_workbook('txt.xlsx')\n",
    "ws=wb['Sheet1']"
   ]
  },
  {
   "cell_type": "code",
   "execution_count": 40,
   "id": "3d05a6db",
   "metadata": {},
   "outputs": [],
   "source": [
    "#inserts one row before 3rd row\n",
    "ws.insert_rows(3)\n",
    "#inserts two rows before 5th row\n",
    "ws.insert_rows(5,2)\n"
   ]
  },
  {
   "cell_type": "code",
   "execution_count": 41,
   "id": "fda9aa42",
   "metadata": {},
   "outputs": [
    {
     "name": "stdout",
     "output_type": "stream",
     "text": [
      "JOHN WICK 2 3 a \n",
      "JOHN WICK 5 6 a \n",
      "None None None None \n",
      "7 8 9 a \n",
      "None None None None \n",
      "None None None None \n",
      "1 2 3 a \n",
      "5 10 10000 b \n",
      "1 2 3 a \n",
      "5 10 10000 b \n",
      "1 2 3 a \n",
      "5 10 10000 b \n",
      "1 2 3 a \n",
      "5 10 10000 b \n"
     ]
    }
   ],
   "source": [
    "for i in ws.values:\n",
    "    for j in i:\n",
    "        print(j,end=' ')\n",
    "    print()"
   ]
  },
  {
   "cell_type": "code",
   "execution_count": 42,
   "id": "0dfd6878",
   "metadata": {},
   "outputs": [],
   "source": [
    "wb.save(r'txt.xlsx')"
   ]
  },
  {
   "cell_type": "code",
   "execution_count": 44,
   "id": "b39215f0",
   "metadata": {},
   "outputs": [],
   "source": [
    "#inserts one column before 2nd column\n",
    "ws.insert_cols(2)\n",
    "#inserts two columns before 4th column\n",
    "ws.insert_cols(4,2)"
   ]
  },
  {
   "cell_type": "code",
   "execution_count": 45,
   "id": "340f19d5",
   "metadata": {},
   "outputs": [
    {
     "name": "stdout",
     "output_type": "stream",
     "text": [
      "JOHN WICK None 2 None None 3 a \n",
      "JOHN WICK None 5 None None 6 a \n",
      "None None None None None None None \n",
      "7 None 8 None None 9 a \n",
      "None None None None None None None \n",
      "None None None None None None None \n",
      "1 None 2 None None 3 a \n",
      "5 None 10 None None 10000 b \n",
      "1 None 2 None None 3 a \n",
      "5 None 10 None None 10000 b \n",
      "1 None 2 None None 3 a \n",
      "5 None 10 None None 10000 b \n",
      "1 None 2 None None 3 a \n",
      "5 None 10 None None 10000 b \n"
     ]
    }
   ],
   "source": [
    "for i in ws.values:\n",
    "    for j in i:\n",
    "        print(j,end=' ')\n",
    "    print()"
   ]
  },
  {
   "cell_type": "code",
   "execution_count": 46,
   "id": "2510d22c",
   "metadata": {},
   "outputs": [],
   "source": [
    "wb.save(r'txt.xlsx')"
   ]
  },
  {
   "cell_type": "markdown",
   "id": "b38d828b",
   "metadata": {},
   "source": [
    "## Deleting rows and columns"
   ]
  },
  {
   "cell_type": "markdown",
   "id": "00fe6046",
   "metadata": {},
   "source": [
    "The delete_rows() method of the worksheet object is used to delete an existing row/rows. <br>It accepts two parameters -\n",
    "\n",
    "the row number, which needs to be deleted and\n",
    "the number of row(s) to be deleted"
   ]
  },
  {
   "cell_type": "code",
   "execution_count": 47,
   "id": "a5efbb72",
   "metadata": {},
   "outputs": [],
   "source": [
    "wb = xl.load_workbook('txt.xlsx')\n",
    "ws=wb['Sheet1']"
   ]
  },
  {
   "cell_type": "code",
   "execution_count": 48,
   "id": "3dd4d818",
   "metadata": {},
   "outputs": [
    {
     "name": "stdout",
     "output_type": "stream",
     "text": [
      "JOHN WICK None 2 None None 3 a \n",
      "JOHN WICK None 5 None None 6 a \n",
      "None None None None None None None \n",
      "7 None 8 None None 9 a \n",
      "None None None None None None None \n",
      "None None None None None None None \n",
      "1 None 2 None None 3 a \n",
      "5 None 10 None None 10000 b \n",
      "1 None 2 None None 3 a \n",
      "5 None 10 None None 10000 b \n",
      "1 None 2 None None 3 a \n",
      "5 None 10 None None 10000 b \n",
      "1 None 2 None None 3 a \n",
      "5 None 10 None None 10000 b \n"
     ]
    }
   ],
   "source": [
    "for i in ws.values:\n",
    "    for j in i:\n",
    "        print(j,end=' ')\n",
    "    print()"
   ]
  },
  {
   "cell_type": "code",
   "execution_count": 49,
   "id": "0755f7dd",
   "metadata": {},
   "outputs": [],
   "source": [
    "#deletes 3rd row\n",
    "ws.delete_rows(3)\n",
    "#deletes two rows from 5th row\n",
    "ws.delete_rows(5,2)"
   ]
  },
  {
   "cell_type": "code",
   "execution_count": 51,
   "id": "e350ee6e",
   "metadata": {},
   "outputs": [],
   "source": [
    "ws.delete_rows(4)"
   ]
  },
  {
   "cell_type": "code",
   "execution_count": 53,
   "id": "3e9c1bb8",
   "metadata": {},
   "outputs": [],
   "source": [
    "wb.save(r'txt.xlsx')"
   ]
  },
  {
   "cell_type": "code",
   "execution_count": 58,
   "id": "0eca96d0",
   "metadata": {},
   "outputs": [
    {
     "name": "stdout",
     "output_type": "stream",
     "text": [
      "JOHN WICK 2 3 a \n",
      "JOHN WICK 5 6 a \n",
      "7 8 9 a \n",
      "5 10 10000 b \n",
      "1 2 3 a \n",
      "5 10 10000 b \n",
      "1 2 3 a \n",
      "5 10 10000 b \n",
      "1 2 3 a \n",
      "5 10 10000 b \n"
     ]
    }
   ],
   "source": [
    "for i in ws.values:\n",
    "    for j in i:\n",
    "        print(j,end=' ')\n",
    "    print()"
   ]
  },
  {
   "cell_type": "code",
   "execution_count": 55,
   "id": "44ad71f2",
   "metadata": {},
   "outputs": [],
   "source": [
    "#deletes 3rd column\n",
    "ws.delete_cols(2)\n"
   ]
  },
  {
   "cell_type": "code",
   "execution_count": 57,
   "id": "d985af0c",
   "metadata": {},
   "outputs": [],
   "source": [
    "#deletes two columns from 4th column\n",
    "ws.delete_cols(3,2)"
   ]
  },
  {
   "cell_type": "code",
   "execution_count": 59,
   "id": "969d5dc8",
   "metadata": {},
   "outputs": [],
   "source": [
    "wb.save(r'txt.xlsx')"
   ]
  },
  {
   "cell_type": "markdown",
   "id": "72e4353e",
   "metadata": {},
   "source": [
    "## Creating a new workbook and worksheets"
   ]
  },
  {
   "cell_type": "markdown",
   "id": "80fb0120",
   "metadata": {},
   "source": [
    "The Workbook class is used to create a new workbook. The following code is used to create a workbook, create a sheet, remove a sheet. Insert data into it and save it."
   ]
  },
  {
   "cell_type": "code",
   "execution_count": 60,
   "id": "1f9c194f",
   "metadata": {},
   "outputs": [
    {
     "name": "stdout",
     "output_type": "stream",
     "text": [
      "['Sheet']\n"
     ]
    }
   ],
   "source": [
    "wb=xl.Workbook()\n",
    "print(wb.sheetnames)"
   ]
  },
  {
   "cell_type": "code",
   "execution_count": 65,
   "id": "4dd02414",
   "metadata": {},
   "outputs": [
    {
     "data": {
      "text/plain": [
       "<Worksheet \"Emp23\">"
      ]
     },
     "execution_count": 65,
     "metadata": {},
     "output_type": "execute_result"
    }
   ],
   "source": [
    "wb.create_sheet(title='Emp23',index=1)"
   ]
  },
  {
   "cell_type": "code",
   "execution_count": 66,
   "id": "4d608e23",
   "metadata": {},
   "outputs": [
    {
     "name": "stdout",
     "output_type": "stream",
     "text": [
      "['Emp', 'Emp23', 'Sheet', 'Emp2']\n"
     ]
    }
   ],
   "source": [
    "print(wb.sheetnames)"
   ]
  },
  {
   "cell_type": "code",
   "execution_count": 70,
   "id": "be22b4c5",
   "metadata": {},
   "outputs": [
    {
     "name": "stderr",
     "output_type": "stream",
     "text": [
      "C:\\Users\\Anirudha Patil\\AppData\\Local\\Temp\\ipykernel_4732\\3288114053.py:1: DeprecationWarning: Call to deprecated function remove_sheet (Use wb.remove(worksheet) or del wb[sheetname]).\n",
      "  wb.remove_sheet(wb['Emp23'])\n"
     ]
    }
   ],
   "source": [
    "wb.remove_sheet(wb['Emp23'])"
   ]
  },
  {
   "cell_type": "code",
   "execution_count": 71,
   "id": "89b19238",
   "metadata": {},
   "outputs": [
    {
     "name": "stdout",
     "output_type": "stream",
     "text": [
      "['Emp', 'Sheet', 'Emp2']\n"
     ]
    }
   ],
   "source": [
    "print(wb.sheetnames)"
   ]
  },
  {
   "cell_type": "code",
   "execution_count": 72,
   "id": "bdc56445",
   "metadata": {},
   "outputs": [],
   "source": [
    "ws=wb['Emp']"
   ]
  },
  {
   "cell_type": "code",
   "execution_count": 73,
   "id": "2d1d6a16",
   "metadata": {},
   "outputs": [],
   "source": [
    "ws['A1']='Name'\n",
    "ws['B1']='Salary'"
   ]
  },
  {
   "cell_type": "code",
   "execution_count": 74,
   "id": "f6f04c1d",
   "metadata": {},
   "outputs": [],
   "source": [
    "ws.append(['batman',1000])\n",
    "ws.append(['superman',100])\n"
   ]
  },
  {
   "cell_type": "code",
   "execution_count": 75,
   "id": "fad7d1c3",
   "metadata": {},
   "outputs": [
    {
     "name": "stdout",
     "output_type": "stream",
     "text": [
      "Name Salary \n",
      "batman 1000 \n",
      "superman 100 \n"
     ]
    }
   ],
   "source": [
    "for i in ws.values:\n",
    "    for j in i:\n",
    "        print(j,end=' ')\n",
    "    print()"
   ]
  },
  {
   "cell_type": "code",
   "execution_count": 76,
   "id": "acdf6da3",
   "metadata": {},
   "outputs": [],
   "source": [
    "wb.save(r'aaaaabbbbcccc.xlsx')"
   ]
  },
  {
   "cell_type": "code",
   "execution_count": null,
   "id": "f0234629",
   "metadata": {},
   "outputs": [],
   "source": []
  }
 ],
 "metadata": {
  "kernelspec": {
   "display_name": "Python 3 (ipykernel)",
   "language": "python",
   "name": "python3"
  },
  "language_info": {
   "codemirror_mode": {
    "name": "ipython",
    "version": 3
   },
   "file_extension": ".py",
   "mimetype": "text/x-python",
   "name": "python",
   "nbconvert_exporter": "python",
   "pygments_lexer": "ipython3",
   "version": "3.10.9"
  }
 },
 "nbformat": 4,
 "nbformat_minor": 5
}
